{
 "cells": [
  {
   "cell_type": "code",
   "execution_count": 1,
   "id": "52d23eac",
   "metadata": {},
   "outputs": [],
   "source": [
    "import torch\n",
    "import torch.nn as nn\n",
    "import torch.nn.functional as F\n",
    "from torch.utils.data import DataLoader\n",
    "from torchvision import datasets, transforms\n",
    "from torchvision.utils import make_grid\n",
    "\n",
    "import numpy as np\n",
    "import pandas as pd\n",
    "from sklearn.metrics import confusion_matrix\n",
    "import matplotlib.pyplot as plt\n",
    "import os    \n",
    "os.environ['KMP_DUPLICATE_LIB_OK'] = 'True'"
   ]
  },
  {
   "cell_type": "code",
   "execution_count": 2,
   "id": "cad2ebf0",
   "metadata": {},
   "outputs": [],
   "source": [
    "transform = transforms.ToTensor()"
   ]
  },
  {
   "cell_type": "code",
   "execution_count": 4,
   "id": "5401ba9e",
   "metadata": {},
   "outputs": [],
   "source": [
    "train_data = datasets.MNIST(root='../Data',train=True,download=True,transform=transform)"
   ]
  },
  {
   "cell_type": "code",
   "execution_count": 5,
   "id": "70ed573b",
   "metadata": {},
   "outputs": [],
   "source": [
    "test_data = datasets.MNIST(root='../Data',train=False,download=True,transform=transform)"
   ]
  },
  {
   "cell_type": "code",
   "execution_count": 8,
   "id": "12393321",
   "metadata": {},
   "outputs": [],
   "source": [
    "# Images: want smaller batch sizes (depends on computer, network; try smaller then go to larger)\n",
    "\n",
    "train_loader = DataLoader(train_data,batch_size=10,shuffle=True)\n",
    "test_loader = DataLoader(test_data,batch_size=10,shuffle=False)"
   ]
  },
  {
   "cell_type": "code",
   "execution_count": 9,
   "id": "2fa89cc5",
   "metadata": {},
   "outputs": [],
   "source": [
    "# First break down the model (later class will be built)\n",
    "# Conv. layers\n",
    "conv1 = nn.Conv2d(1,6,3,1)  # 1 input channel (1 greyscale channel); 6 filters (arbitrary output channels); 3x3 filter; 1 stepsize\n",
    "# here could also be pooling layer, reducing the filter size\n",
    "conv2 = nn.Conv2d(6,16,3,1)  # takes 6 filters from first layer; 16 filters (arbitrary)\n"
   ]
  },
  {
   "cell_type": "code",
   "execution_count": 10,
   "id": "2c316e66",
   "metadata": {},
   "outputs": [],
   "source": [
    "for i, (X_train,y_train) in enumerate(train_data):\n",
    "    break"
   ]
  },
  {
   "cell_type": "code",
   "execution_count": 16,
   "id": "32edccfa",
   "metadata": {},
   "outputs": [
    {
     "data": {
      "text/plain": [
       "torch.Size([1, 1, 28, 28])"
      ]
     },
     "execution_count": 16,
     "metadata": {},
     "output_type": "execute_result"
    }
   ],
   "source": [
    "x = X_train.view(1,1,28,28)  # ---> 4D batch of 1 image (and 1 colorchannel,...)\n",
    "x.shape"
   ]
  },
  {
   "cell_type": "code",
   "execution_count": 17,
   "id": "76d30c71",
   "metadata": {},
   "outputs": [],
   "source": [
    "# Pass through one conv layer\n",
    "x = F.relu(conv1(x)) "
   ]
  },
  {
   "cell_type": "code",
   "execution_count": 18,
   "id": "48bd2ff5",
   "metadata": {},
   "outputs": [
    {
     "data": {
      "text/plain": [
       "torch.Size([1, 6, 26, 26])"
      ]
     },
     "execution_count": 18,
     "metadata": {},
     "output_type": "execute_result"
    }
   ],
   "source": [
    "x.shape  # 1 image, 6 filters, lost information on borders"
   ]
  },
  {
   "cell_type": "code",
   "execution_count": 24,
   "id": "f01066a5",
   "metadata": {},
   "outputs": [],
   "source": [
    "x = F.max_pool2d(x,2,2)  # downsampling /2"
   ]
  },
  {
   "cell_type": "code",
   "execution_count": 25,
   "id": "c7be4e39",
   "metadata": {},
   "outputs": [
    {
     "data": {
      "text/plain": [
       "torch.Size([1, 6, 13, 13])"
      ]
     },
     "execution_count": 25,
     "metadata": {},
     "output_type": "execute_result"
    }
   ],
   "source": [
    "x.shape"
   ]
  },
  {
   "cell_type": "code",
   "execution_count": 26,
   "id": "41cf49b1",
   "metadata": {},
   "outputs": [],
   "source": [
    "x = F.relu(conv2(x))"
   ]
  },
  {
   "cell_type": "code",
   "execution_count": 27,
   "id": "47cf0aec",
   "metadata": {},
   "outputs": [
    {
     "data": {
      "text/plain": [
       "torch.Size([1, 16, 11, 11])"
      ]
     },
     "execution_count": 27,
     "metadata": {},
     "output_type": "execute_result"
    }
   ],
   "source": [
    "x.shape"
   ]
  },
  {
   "cell_type": "code",
   "execution_count": 28,
   "id": "bc8fb35f",
   "metadata": {},
   "outputs": [],
   "source": [
    "x = F.max_pool2d(x,2,2)"
   ]
  },
  {
   "cell_type": "code",
   "execution_count": 29,
   "id": "05c9ea4f",
   "metadata": {},
   "outputs": [
    {
     "data": {
      "text/plain": [
       "torch.Size([1, 16, 5, 5])"
      ]
     },
     "execution_count": 29,
     "metadata": {},
     "output_type": "execute_result"
    }
   ],
   "source": [
    "x.shape"
   ]
  },
  {
   "cell_type": "code",
   "execution_count": 32,
   "id": "4d4101e0",
   "metadata": {},
   "outputs": [
    {
     "data": {
      "text/plain": [
       "torch.Size([1, 400])"
      ]
     },
     "execution_count": 32,
     "metadata": {},
     "output_type": "execute_result"
    }
   ],
   "source": [
    "# Flattend layer\n",
    "x.view(-1,16*5*5).shape  # -1 changes batch size: keep that first dimension (normally batch of 10)"
   ]
  },
  {
   "cell_type": "code",
   "execution_count": null,
   "id": "7186174c",
   "metadata": {},
   "outputs": [],
   "source": []
  },
  {
   "cell_type": "code",
   "execution_count": null,
   "id": "53988fcb",
   "metadata": {},
   "outputs": [],
   "source": []
  },
  {
   "cell_type": "code",
   "execution_count": 35,
   "id": "0a6461f8",
   "metadata": {},
   "outputs": [],
   "source": [
    "class ConvolutionalNetwork(nn.Module):\n",
    "    \n",
    "    def __init__(self):\n",
    "        super().__init__()\n",
    "        self.conv1 = nn.Conv2d(1,6,3,1)  # Pooling won't be layer, but function later\n",
    "        self.conv2 = nn.Conv2d(6,16,3,1)\n",
    "        self.fc1 = nn.Linear(5*5*16,120)  # 120 arbitrary number of flattened neurons\n",
    "        self.fc2 = nn.Linear(120,84)  # 84 arbitrary\n",
    "        self.fc3 = nn.Linear(84,10)\n",
    "        \n",
    "    def forward(self,X):\n",
    "        X = F.relu(self.conv1(X))  # pass through activation function\n",
    "        X = F.max_pool2d(X,2,2)\n",
    "        X = F.relu(self.conv2(X))  # pass through activation function\n",
    "        X = F.max_pool2d(X,2,2)\n",
    "        X = X.view(-1,16*5*5)  # -1 so we can vary the batch size\n",
    "        X = F.relu(self.fc1(X))\n",
    "        X = F.relu(self.fc2(X))\n",
    "        X = self.fc3(X)\n",
    "        #Last activation function: softmax\n",
    "        return F.log_softmax(X,dim=1)\n",
    "        "
   ]
  },
  {
   "cell_type": "code",
   "execution_count": 47,
   "id": "d1e5a717",
   "metadata": {},
   "outputs": [
    {
     "data": {
      "text/plain": [
       "ConvolutionalNetwork(\n",
       "  (conv1): Conv2d(1, 6, kernel_size=(3, 3), stride=(1, 1))\n",
       "  (conv2): Conv2d(6, 16, kernel_size=(3, 3), stride=(1, 1))\n",
       "  (fc1): Linear(in_features=400, out_features=120, bias=True)\n",
       "  (fc2): Linear(in_features=120, out_features=84, bias=True)\n",
       "  (fc3): Linear(in_features=84, out_features=10, bias=True)\n",
       ")"
      ]
     },
     "execution_count": 47,
     "metadata": {},
     "output_type": "execute_result"
    }
   ],
   "source": [
    "torch.manual_seed(42)\n",
    "model = ConvolutionalNetwork()\n",
    "model"
   ]
  },
  {
   "cell_type": "code",
   "execution_count": 48,
   "id": "0df0a727",
   "metadata": {},
   "outputs": [
    {
     "name": "stdout",
     "output_type": "stream",
     "text": [
      "54\n",
      "6\n",
      "864\n",
      "16\n",
      "48000\n",
      "120\n",
      "10080\n",
      "84\n",
      "840\n",
      "10\n"
     ]
    }
   ],
   "source": [
    "for param in model.parameters():\n",
    "    print(param.numel())  # number of elements"
   ]
  },
  {
   "cell_type": "code",
   "execution_count": 49,
   "id": "73d5f140",
   "metadata": {},
   "outputs": [],
   "source": [
    "# total of 60074, nearly half of ANN"
   ]
  },
  {
   "cell_type": "code",
   "execution_count": 50,
   "id": "cb68566c",
   "metadata": {},
   "outputs": [],
   "source": [
    "criterion = nn.CrossEntropyLoss()\n",
    "optimizer = torch.optim.Adam(model.parameters(),lr=0.001)"
   ]
  },
  {
   "cell_type": "code",
   "execution_count": 51,
   "id": "8d1763dd",
   "metadata": {},
   "outputs": [
    {
     "name": "stdout",
     "output_type": "stream",
     "text": [
      "EPOCH: 0 BATCH: 600 LOSS: 0.040556252002716064\n",
      "EPOCH: 0 BATCH: 1200 LOSS: 0.08253474533557892\n",
      "EPOCH: 0 BATCH: 1800 LOSS: 0.36018985509872437\n",
      "EPOCH: 0 BATCH: 2400 LOSS: 0.01818694919347763\n",
      "EPOCH: 0 BATCH: 3000 LOSS: 0.00846516527235508\n",
      "EPOCH: 0 BATCH: 3600 LOSS: 0.001142998575232923\n",
      "EPOCH: 0 BATCH: 4200 LOSS: 0.624707818031311\n",
      "EPOCH: 0 BATCH: 4800 LOSS: 0.046218063682317734\n",
      "EPOCH: 0 BATCH: 5400 LOSS: 0.00839207973331213\n",
      "EPOCH: 0 BATCH: 6000 LOSS: 0.044792745262384415\n",
      "EPOCH: 1 BATCH: 600 LOSS: 0.003464172128587961\n",
      "EPOCH: 1 BATCH: 1200 LOSS: 0.048956435173749924\n",
      "EPOCH: 1 BATCH: 1800 LOSS: 0.000778083922341466\n",
      "EPOCH: 1 BATCH: 2400 LOSS: 0.04166005551815033\n",
      "EPOCH: 1 BATCH: 3000 LOSS: 0.19562456011772156\n",
      "EPOCH: 1 BATCH: 3600 LOSS: 0.002942086197435856\n",
      "EPOCH: 1 BATCH: 4200 LOSS: 0.0005433653714135289\n",
      "EPOCH: 1 BATCH: 4800 LOSS: 0.0005624962504953146\n",
      "EPOCH: 1 BATCH: 5400 LOSS: 0.00030035508098080754\n",
      "EPOCH: 1 BATCH: 6000 LOSS: 0.03586563095450401\n",
      "EPOCH: 2 BATCH: 600 LOSS: 0.002943187253549695\n",
      "EPOCH: 2 BATCH: 1200 LOSS: 0.0014550242340192199\n",
      "EPOCH: 2 BATCH: 1800 LOSS: 0.001368862111121416\n",
      "EPOCH: 2 BATCH: 2400 LOSS: 0.005534386727958918\n",
      "EPOCH: 2 BATCH: 3000 LOSS: 0.4764808118343353\n",
      "EPOCH: 2 BATCH: 3600 LOSS: 0.05505165457725525\n",
      "EPOCH: 2 BATCH: 4200 LOSS: 0.007271642331033945\n",
      "EPOCH: 2 BATCH: 4800 LOSS: 0.005500622093677521\n",
      "EPOCH: 2 BATCH: 5400 LOSS: 0.00019268484902568161\n",
      "EPOCH: 2 BATCH: 6000 LOSS: 7.886278035584837e-05\n",
      "EPOCH: 3 BATCH: 600 LOSS: 0.0005187172791920602\n",
      "EPOCH: 3 BATCH: 1200 LOSS: 0.00213501020334661\n",
      "EPOCH: 3 BATCH: 1800 LOSS: 5.13993545609992e-05\n",
      "EPOCH: 3 BATCH: 2400 LOSS: 0.00013268116163089871\n",
      "EPOCH: 3 BATCH: 3000 LOSS: 0.0001986158749787137\n",
      "EPOCH: 3 BATCH: 3600 LOSS: 0.002073561307042837\n",
      "EPOCH: 3 BATCH: 4200 LOSS: 0.00023550578043796122\n",
      "EPOCH: 3 BATCH: 4800 LOSS: 0.07387697696685791\n",
      "EPOCH: 3 BATCH: 5400 LOSS: 0.008837352506816387\n",
      "EPOCH: 3 BATCH: 6000 LOSS: 0.03450579196214676\n",
      "EPOCH: 4 BATCH: 600 LOSS: 0.001475363620556891\n",
      "EPOCH: 4 BATCH: 1200 LOSS: 0.07949581742286682\n",
      "EPOCH: 4 BATCH: 1800 LOSS: 2.6140929549001157e-05\n",
      "EPOCH: 4 BATCH: 2400 LOSS: 0.0003961739712394774\n",
      "EPOCH: 4 BATCH: 3000 LOSS: 0.03030974790453911\n",
      "EPOCH: 4 BATCH: 3600 LOSS: 0.013598117046058178\n",
      "EPOCH: 4 BATCH: 4200 LOSS: 0.0017820881912484765\n",
      "EPOCH: 4 BATCH: 4800 LOSS: 0.0009464075556024909\n",
      "EPOCH: 4 BATCH: 5400 LOSS: 6.844296149211004e-05\n",
      "EPOCH: 4 BATCH: 6000 LOSS: 0.0001983713882509619\n",
      "Training took 3.8237398266792297 minutes\n"
     ]
    }
   ],
   "source": [
    "import time\n",
    "start_time = time.time()\n",
    "\n",
    "\n",
    "# TRACKERS\n",
    "epochs = 5\n",
    "train_losses = []\n",
    "test_losses = []\n",
    "train_correct = []\n",
    "test_correct = []\n",
    "\n",
    "\n",
    "# LOOP EPOCHS\n",
    "for i in range(epochs):\n",
    "    \n",
    "    trn_corr = 0\n",
    "    tst_corr = 0\n",
    "\n",
    "    # TRAIN\n",
    "    \n",
    "    for b, (X_train,y_train) in enumerate(train_loader):\n",
    "        b+=1\n",
    "        \n",
    "        y_pred = model(X_train)  # Don't need to flatten cause we use 2d data\n",
    "        loss = criterion(y_pred,y_train)\n",
    "        \n",
    "        predicted = torch.max(y_pred.data,1)[1]\n",
    "        batch_corr = (predicted == y_train).sum()  # sum of booleans, True->1, False->0\n",
    "        trn_corr += batch_corr\n",
    "        \n",
    "        optimizer.zero_grad()\n",
    "        loss.backward()\n",
    "        optimizer.step()\n",
    "        \n",
    "        if b%600 == 0:  # that's why we made b+=1\n",
    "            print(f'EPOCH: {i} BATCH: {b} LOSS: {loss.item()}')\n",
    "            \n",
    "    train_losses.append(loss.detach().numpy())\n",
    "    train_correct.append(trn_corr)\n",
    "    \n",
    "    # TEST\n",
    "    with torch.no_grad():\n",
    "        for b,(X_test,y_test) in enumerate(test_loader):\n",
    "            \n",
    "            y_val = model(X_test)\n",
    "            \n",
    "            predicted = torch.max(y_val.data,1)[1]\n",
    "            tst_corr += (predicted == y_test).sum()\n",
    "            \n",
    "    loss = criterion(y_val,y_test)\n",
    "    test_losses.append(loss.detach().numpy())\n",
    "    test_correct.append(tst_corr)\n",
    "\n",
    "\n",
    "current_time = time.time()\n",
    "total_time = current_time - start_time\n",
    "print(f'Training took {total_time/60} minutes')"
   ]
  },
  {
   "cell_type": "code",
   "execution_count": 53,
   "id": "b6d65af6",
   "metadata": {},
   "outputs": [
    {
     "data": {
      "text/plain": [
       "<matplotlib.legend.Legend at 0x206a0174340>"
      ]
     },
     "execution_count": 53,
     "metadata": {},
     "output_type": "execute_result"
    },
    {
     "data": {
      "image/png": "[encoded data removed]",
      "text/plain": [
       "<Figure size 432x288 with 1 Axes>"
      ]
     },
     "metadata": {
      "needs_background": "light"
     },
     "output_type": "display_data"
    }
   ],
   "source": [
    "plt.plot(train_losses,label='train loss')\n",
    "plt.plot(test_losses,label='validation loss')\n",
    "plt.legend()"
   ]
  },
  {
   "cell_type": "code",
   "execution_count": 54,
   "id": "9d9af24e",
   "metadata": {},
   "outputs": [
    {
     "data": {
      "image/png": "[encoded data removed]",
      "text/plain": [
       "<Figure size 432x288 with 1 Axes>"
      ]
     },
     "metadata": {
      "needs_background": "light"
     },
     "output_type": "display_data"
    }
   ],
   "source": [
    "plt.plot([t/600 for t in train_correct], label='training accuracy')\n",
    "plt.plot([t/100 for t in test_correct], label='validation accuracy')\n",
    "plt.title('Accuracy at the end of each epoch')\n",
    "plt.legend();"
   ]
  },
  {
   "cell_type": "code",
   "execution_count": 55,
   "id": "4a6ff659",
   "metadata": {},
   "outputs": [],
   "source": [
    "test_load_all = DataLoader(test_data,batch_size=10000,shuffle=False)"
   ]
  },
  {
   "cell_type": "code",
   "execution_count": 56,
   "id": "e54697bd",
   "metadata": {},
   "outputs": [],
   "source": [
    "with torch.no_grad():\n",
    "    correct = 0\n",
    "    for X_test,y_test in test_load_all:\n",
    "        y_val = model(X_test)\n",
    "        predicted = torch.max(y_val,1)[1]\n",
    "        correct += (predicted == y_test).sum()"
   ]
  },
  {
   "cell_type": "code",
   "execution_count": 57,
   "id": "1dae7344",
   "metadata": {},
   "outputs": [
    {
     "data": {
      "text/plain": [
       "0.9856"
      ]
     },
     "execution_count": 57,
     "metadata": {},
     "output_type": "execute_result"
    }
   ],
   "source": [
    "correct.item()/len(test_data)"
   ]
  },
  {
   "cell_type": "code",
   "execution_count": 58,
   "id": "48e772f3",
   "metadata": {},
   "outputs": [
    {
     "name": "stdout",
     "output_type": "stream",
     "text": [
      "[[   0    1    2    3    4    5    6    7    8    9]]\n",
      "\n",
      "[[ 972    0    2    0    0    2    3    0    2    0]\n",
      " [   0 1135    4    1    1    0    4    7    0    3]\n",
      " [   2    0 1014    0    0    0    1    3    1    1]\n",
      " [   0    0    0 1000    0   17    0    0    1    0]\n",
      " [   0    0    1    0  979    0    2    0    1   16]\n",
      " [   0    0    0    1    0  859    0    0    1    2]\n",
      " [   3    0    0    0    0    3  945    0    0    0]\n",
      " [   1    0   11    5    0    1    0 1016    1    5]\n",
      " [   1    0    0    2    0    4    3    1  965   11]\n",
      " [   1    0    0    1    2    6    0    1    2  971]]\n"
     ]
    }
   ],
   "source": [
    "# print a row of values for reference\n",
    "np.set_printoptions(formatter=dict(int=lambda x: f'{x:4}'))\n",
    "print(np.arange(10).reshape(1,10))\n",
    "print()\n",
    "\n",
    "# print the confusion matrix\n",
    "print(confusion_matrix(predicted.view(-1), y_test.view(-1)))"
   ]
  },
  {
   "cell_type": "code",
   "execution_count": 70,
   "id": "c1bc21dd",
   "metadata": {},
   "outputs": [
    {
     "data": {
      "text/plain": [
       "<matplotlib.image.AxesImage at 0x206a57c01c0>"
      ]
     },
     "execution_count": 70,
     "metadata": {},
     "output_type": "execute_result"
    },
    {
     "data": {
      "image/png": "[encoded data removed]",
      "text/plain": [
       "<Figure size 432x288 with 1 Axes>"
      ]
     },
     "metadata": {
      "needs_background": "light"
     },
     "output_type": "display_data"
    }
   ],
   "source": [
    "# Single image\n",
    "plt.imshow(test_data[213][0].reshape(28,28))"
   ]
  },
  {
   "cell_type": "code",
   "execution_count": 73,
   "id": "630aefe0",
   "metadata": {},
   "outputs": [],
   "source": [
    "model.eval()\n",
    "with torch.no_grad():\n",
    "    new_prediction = model(test_data[213][0].reshape(1,1,28,28))"
   ]
  },
  {
   "cell_type": "code",
   "execution_count": 74,
   "id": "df295406",
   "metadata": {},
   "outputs": [
    {
     "data": {
      "text/plain": [
       "tensor(3)"
      ]
     },
     "execution_count": 74,
     "metadata": {},
     "output_type": "execute_result"
    }
   ],
   "source": [
    "new_prediction.argmax()"
   ]
  },
  {
   "cell_type": "code",
   "execution_count": null,
   "id": "4d8b15ec",
   "metadata": {},
   "outputs": [],
   "source": []
  }
 ],
 "metadata": {
  "kernelspec": {
   "display_name": "Python 3 (ipykernel)",
   "language": "python",
   "name": "python3"
  },
  "language_info": {
   "codemirror_mode": {
    "name": "ipython",
    "version": 3
   },
   "file_extension": ".py",
   "mimetype": "text/x-python",
   "name": "python",
   "nbconvert_exporter": "python",
   "pygments_lexer": "ipython3",
   "version": "3.9.7"
  }
 },
 "nbformat": 4,
 "nbformat_minor": 5
}
