{
 "cells": [
  {
   "cell_type": "markdown",
   "id": "856a52c3",
   "metadata": {},
   "source": [
    "# Explore MNIST w/ ANN"
   ]
  },
  {
   "cell_type": "code",
   "execution_count": 1,
   "id": "334581c7",
   "metadata": {},
   "outputs": [],
   "source": [
    "import torch\n",
    "import torch.nn as nn\n",
    "import torch.nn.functional as F"
   ]
  },
  {
   "cell_type": "code",
   "execution_count": 2,
   "id": "5b8c93e2",
   "metadata": {},
   "outputs": [],
   "source": [
    "from torch.utils.data import DataLoader\n",
    "from torchvision import datasets, transforms"
   ]
  },
  {
   "cell_type": "code",
   "execution_count": 3,
   "id": "e7e7abf9",
   "metadata": {},
   "outputs": [],
   "source": [
    "import numpy as np\n",
    "import pandas as pd\n",
    "from sklearn.metrics import confusion_matrix\n",
    "import matplotlib.pyplot as plt\n",
    "import os    \n",
    "os.environ['KMP_DUPLICATE_LIB_OK'] = 'True'"
   ]
  },
  {
   "cell_type": "code",
   "execution_count": 4,
   "id": "a2d2b572",
   "metadata": {},
   "outputs": [],
   "source": [
    "# MNIST IMAGE FILES --> Tensors"
   ]
  },
  {
   "cell_type": "code",
   "execution_count": 109,
   "id": "65452a07",
   "metadata": {},
   "outputs": [],
   "source": [
    "transform = transforms.ToTensor()"
   ]
  },
  {
   "cell_type": "code",
   "execution_count": 110,
   "id": "e3639331",
   "metadata": {},
   "outputs": [],
   "source": [
    "train_data = datasets.MNIST(root='../Data',train=True,download=True,transform=transform)"
   ]
  },
  {
   "cell_type": "code",
   "execution_count": 111,
   "id": "6f4b6d5d",
   "metadata": {},
   "outputs": [],
   "source": [
    "test_data = datasets.MNIST(root='../Data',train=False,download=True,transform=transform)"
   ]
  },
  {
   "cell_type": "code",
   "execution_count": 112,
   "id": "18badb36",
   "metadata": {},
   "outputs": [],
   "source": [
    "image,label = train_data[0]"
   ]
  },
  {
   "cell_type": "code",
   "execution_count": 113,
   "id": "f3e41d54",
   "metadata": {},
   "outputs": [
    {
     "data": {
      "text/plain": [
       "<matplotlib.image.AxesImage at 0x1f740825580>"
      ]
     },
     "execution_count": 113,
     "metadata": {},
     "output_type": "execute_result"
    },
    {
     "data": {
      "image/png": "[encoded data removed]",
      "text/plain": [
       "<Figure size 432x288 with 1 Axes>"
      ]
     },
     "metadata": {
      "needs_background": "light"
     },
     "output_type": "display_data"
    }
   ],
   "source": [
    "plt.imshow(image.reshape((28,28)),cmap='Greys')"
   ]
  },
  {
   "cell_type": "code",
   "execution_count": 114,
   "id": "96f888fb",
   "metadata": {},
   "outputs": [],
   "source": [
    "# How to load in batches with dataloader? batches: subsets; e.g. 100 images at a time fed into network\n",
    "torch.manual_seed(101)  # random shuffle of data\n",
    "\n",
    "train_loader = DataLoader(train_data,batch_size=100,shuffle=True)  # shuffle in case its ordered for labels\n",
    "\n",
    "test_loader = DataLoader(test_data,batch_size=500,shuffle=False)  # Can be larger set..."
   ]
  },
  {
   "cell_type": "code",
   "execution_count": 115,
   "id": "a4f2576d",
   "metadata": {},
   "outputs": [],
   "source": [
    "from torchvision.utils import make_grid\n",
    "np.set_printoptions(formatter=dict(int=lambda x: f'{x:4}'))"
   ]
  },
  {
   "cell_type": "code",
   "execution_count": 116,
   "id": "c873696f",
   "metadata": {},
   "outputs": [],
   "source": [
    "# First batch\n",
    "for images,labels in train_loader:\n",
    "    break\n",
    "    # loop would go through 600 times (60000/100)\n",
    "    # neat trick to get the first batch"
   ]
  },
  {
   "cell_type": "code",
   "execution_count": 117,
   "id": "67212375",
   "metadata": {},
   "outputs": [
    {
     "data": {
      "text/plain": [
       "torch.Size([100, 1, 28, 28])"
      ]
     },
     "execution_count": 117,
     "metadata": {},
     "output_type": "execute_result"
    }
   ],
   "source": [
    "images.shape  # number of images, colorchannel, width, height"
   ]
  },
  {
   "cell_type": "code",
   "execution_count": 118,
   "id": "c8e32808",
   "metadata": {},
   "outputs": [
    {
     "name": "stdout",
     "output_type": "stream",
     "text": [
      "Labels:  [   7    2    3    5    8    5    3    6    9    9    1    3]\n"
     ]
    },
    {
     "data": {
      "image/png": "[encoded data removed]",
      "text/plain": [
       "<Figure size 720x288 with 1 Axes>"
      ]
     },
     "metadata": {
      "needs_background": "light"
     },
     "output_type": "display_data"
    }
   ],
   "source": [
    "# Print the first 12 labels\n",
    "print('Labels: ', labels[:12].numpy())\n",
    "\n",
    "# Print the first 12 images\n",
    "im = make_grid(images[:12], nrow=12)  # the default nrow is 8\n",
    "plt.figure(figsize=(10,4))\n",
    "# We need to transpose the images from CWH to WHC (Width, Heigth, Colorchannel)\n",
    "plt.imshow(np.transpose(im.numpy(), (1, 2, 0)));"
   ]
  },
  {
   "cell_type": "code",
   "execution_count": 119,
   "id": "360a57b6",
   "metadata": {},
   "outputs": [],
   "source": [
    "class MultilayerPerceptron(nn.Module):\n",
    "    \n",
    "    def __init__(self,in_sz=784,out_sz=10,layers=[120,84]):  #flatten=28x28=784\n",
    "        \n",
    "        super().__init__()  #to instantiate nn.Module\n",
    "        \n",
    "        self.fc1 = nn.Linear(in_sz,layers[0])  # fc -> fully connected layer\n",
    "        self.fc2 = nn.Linear(layers[0],layers[1])\n",
    "        self.fc3 = nn.Linear(layers[1],out_sz)\n",
    "        \n",
    "    def forward(self, X):\n",
    "        \n",
    "        X = F.relu(self.fc1(X))  # Activation function\n",
    "        X = F.relu(self.fc2(X))\n",
    "        X = self.fc3(X)  # dont use F.relu at last, classification prolem -> technically passing it through different act. fct. -> log_softmax\n",
    "        \n",
    "        return F.log_softmax(X,dim=1)\n",
    "        "
   ]
  },
  {
   "cell_type": "code",
   "execution_count": 165,
   "id": "c40415ca",
   "metadata": {},
   "outputs": [
    {
     "data": {
      "text/plain": [
       "MultilayerPerceptron(\n",
       "  (fc1): Linear(in_features=784, out_features=120, bias=True)\n",
       "  (fc2): Linear(in_features=120, out_features=84, bias=True)\n",
       "  (fc3): Linear(in_features=84, out_features=10, bias=True)\n",
       ")"
      ]
     },
     "execution_count": 165,
     "metadata": {},
     "output_type": "execute_result"
    }
   ],
   "source": [
    "torch.manual_seed(101)\n",
    "model = MultilayerPerceptron()\n",
    "model"
   ]
  },
  {
   "cell_type": "code",
   "execution_count": 166,
   "id": "6e8ccfb0",
   "metadata": {},
   "outputs": [
    {
     "name": "stdout",
     "output_type": "stream",
     "text": [
      "94080\n",
      "120\n",
      "10080\n",
      "84\n",
      "840\n",
      "10\n"
     ]
    }
   ],
   "source": [
    "# ANN --> CNN (more efficient and less parameters)\n",
    "for param in model.parameters():\n",
    "    print(param.numel())  # number of elements in all parameters"
   ]
  },
  {
   "cell_type": "markdown",
   "id": "71ae9c74",
   "metadata": {},
   "source": [
    "Connections, number of neurons, connections, number of neurons, ...  -> 105214 total parameters"
   ]
  },
  {
   "cell_type": "code",
   "execution_count": 167,
   "id": "a66197cc",
   "metadata": {},
   "outputs": [],
   "source": [
    "criterion = nn.CrossEntropyLoss()\n",
    "optimizer = torch.optim.Adam(model.parameters(),lr=0.001)"
   ]
  },
  {
   "cell_type": "code",
   "execution_count": 168,
   "id": "3ca6546b",
   "metadata": {},
   "outputs": [
    {
     "data": {
      "text/plain": [
       "torch.Size([500, 1, 28, 28])"
      ]
     },
     "execution_count": 168,
     "metadata": {},
     "output_type": "execute_result"
    }
   ],
   "source": [
    "images.shape  # --> Flatten: [100,784], color channel doesn't matter"
   ]
  },
  {
   "cell_type": "code",
   "execution_count": 169,
   "id": "bdbbf5a7",
   "metadata": {},
   "outputs": [
    {
     "data": {
      "text/plain": [
       "tensor([[0., 0., 0.,  ..., 0., 0., 0.],\n",
       "        [0., 0., 0.,  ..., 0., 0., 0.],\n",
       "        [0., 0., 0.,  ..., 0., 0., 0.],\n",
       "        ...,\n",
       "        [0., 0., 0.,  ..., 0., 0., 0.],\n",
       "        [0., 0., 0.,  ..., 0., 0., 0.],\n",
       "        [0., 0., 0.,  ..., 0., 0., 0.]])"
      ]
     },
     "execution_count": 169,
     "metadata": {},
     "output_type": "execute_result"
    }
   ],
   "source": [
    "images.view(100, -1)  # first dimension (100) stays the same"
   ]
  },
  {
   "cell_type": "code",
   "execution_count": 171,
   "id": "12769844",
   "metadata": {},
   "outputs": [
    {
     "name": "stdout",
     "output_type": "stream",
     "text": [
      "Epoch 0 batch:200 loss:0.2995501160621643 accuracy:82.655\n",
      "Epoch 0 batch:400 loss:0.2725899815559387 accuracy:87.2475\n",
      "Epoch 0 batch:600 loss:0.18161915242671967 accuracy:89.31666666666666\n",
      "Epoch 1 batch:200 loss:0.17173445224761963 accuracy:94.625\n",
      "Epoch 1 batch:400 loss:0.05133364349603653 accuracy:95.005\n",
      "Epoch 1 batch:600 loss:0.14173491299152374 accuracy:95.25166666666667\n",
      "Epoch 2 batch:200 loss:0.1681029200553894 accuracy:96.565\n",
      "Epoch 2 batch:400 loss:0.17132745683193207 accuracy:96.53\n",
      "Epoch 2 batch:600 loss:0.10914479941129684 accuracy:96.59166666666667\n",
      "Epoch 3 batch:200 loss:0.14204615354537964 accuracy:97.47\n",
      "Epoch 3 batch:400 loss:0.012089843861758709 accuracy:97.4875\n",
      "Epoch 3 batch:600 loss:0.07614830136299133 accuracy:97.40833333333333\n",
      "Epoch 4 batch:200 loss:0.050012458115816116 accuracy:98.02\n",
      "Epoch 4 batch:400 loss:0.10280344635248184 accuracy:97.955\n",
      "Epoch 4 batch:600 loss:0.09675315767526627 accuracy:97.97\n",
      "Epoch 5 batch:200 loss:0.07435257732868195 accuracy:98.495\n",
      "Epoch 5 batch:400 loss:0.02579742856323719 accuracy:98.39\n",
      "Epoch 5 batch:600 loss:0.03996041417121887 accuracy:98.30333333333333\n",
      "Epoch 6 batch:200 loss:0.023920990526676178 accuracy:98.8\n",
      "Epoch 6 batch:400 loss:0.048441074788570404 accuracy:98.66\n",
      "Epoch 6 batch:600 loss:0.03596024215221405 accuracy:98.68666666666667\n",
      "Epoch 7 batch:200 loss:0.004791331011801958 accuracy:99.065\n",
      "Epoch 7 batch:400 loss:0.008723333477973938 accuracy:98.945\n",
      "Epoch 7 batch:600 loss:0.02985462360084057 accuracy:98.84166666666667\n",
      "Epoch 8 batch:200 loss:0.007490395102649927 accuracy:99.245\n",
      "Epoch 8 batch:400 loss:0.0841231718659401 accuracy:99.19\n",
      "Epoch 8 batch:600 loss:0.051319655030965805 accuracy:99.14666666666666\n",
      "Epoch 9 batch:200 loss:0.03850807994604111 accuracy:99.345\n",
      "Epoch 9 batch:400 loss:0.044001948088407516 accuracy:99.295\n",
      "Epoch 9 batch:600 loss:0.019732411950826645 accuracy:99.22166666666666\n",
      "Duration: 6.066301655769348 mins\n"
     ]
    }
   ],
   "source": [
    "import time\n",
    "start_time = time.time()\n",
    "\n",
    "# Training\n",
    "\n",
    "epochs = 10\n",
    "\n",
    "# TRACKERS, not neccessary but nice\n",
    "train_losses = []\n",
    "test_losses = []\n",
    "train_correct = []\n",
    "test_correct = []\n",
    "\n",
    "for i in range(epochs):\n",
    "    \n",
    "    trn_corr = 0  # keeping track how many we get correct in both sets\n",
    "    tst_corr = 0\n",
    "    \n",
    "    for b, (X_train,y_train) in enumerate(train_loader):  #train_loader gives image and label\n",
    "        \n",
    "        b+=1  # starts at batch 0 so we start at batch 1\n",
    "        \n",
    "        # Last Layer -> 10 Nerons\n",
    "        # [0.1,0.0,...,0.8] probabilities\n",
    "        y_pred = model(X_train.view(100,-1))  # flatten image here\n",
    "        loss = criterion(y_pred,y_train)\n",
    "        \n",
    "        # some statistics\n",
    "        predicted = torch.max(y_pred.data,1)[1]  # index of most probable label\n",
    "        batch_corr = (predicted == y_train).sum()  # how many matches where predicted equals correct label\n",
    "        trn_corr += batch_corr\n",
    "        \n",
    "        # Update parameters, BACKPROP\n",
    "        optimizer.zero_grad()\n",
    "        loss.backward()\n",
    "        optimizer.step()\n",
    "        \n",
    "        if b%200 == 0:\n",
    "            acc = trn_corr.item()*100/(100*b)\n",
    "            print(f'Epoch {i} batch:{b} loss:{loss.item()} accuracy:{acc}')\n",
    "            \n",
    "    train_losses.append(loss.detach().numpy())  # saving loss only for last batch\n",
    "    train_correct.append(trn_corr)\n",
    "    \n",
    "    \n",
    "    \n",
    "    # ALSO TEST THE MODEL DURING EACH EPOCH\n",
    "    \n",
    "    with torch.no_grad():\n",
    "        \n",
    "        for b, (X_test,y_test) in enumerate(test_loader):\n",
    "            \n",
    "            y_val = model(X_test.view(500,-1))\n",
    "            \n",
    "            predicted = torch.max(y_val.data,1)[1]\n",
    "            tst_corr += (predicted == y_test).sum()\n",
    "            \n",
    "    \n",
    "    loss = criterion(y_val,y_test)\n",
    "    test_losses.append(loss.detach().numpy())\n",
    "    test_correct.append(tst_corr)\n",
    "\n",
    "\n",
    "total_time = time.time() - start_time\n",
    "print(f'Duration: {total_time/60} mins')"
   ]
  },
  {
   "cell_type": "markdown",
   "id": "23e349a7",
   "metadata": {},
   "source": [
    "Training data: 60000 images -> 600 batches\n",
    "\n",
    "Test data: 10000 images -> 20 batches"
   ]
  },
  {
   "cell_type": "code",
   "execution_count": 172,
   "id": "aeb0c8b5",
   "metadata": {},
   "outputs": [
    {
     "data": {
      "text/plain": [
       "<matplotlib.legend.Legend at 0x1f745ea3550>"
      ]
     },
     "execution_count": 172,
     "metadata": {},
     "output_type": "execute_result"
    },
    {
     "data": {
      "image/png": "[encoded data removed]",
      "text/plain": [
       "<Figure size 432x288 with 1 Axes>"
      ]
     },
     "metadata": {
      "needs_background": "light"
     },
     "output_type": "display_data"
    }
   ],
   "source": [
    "plt.plot(train_losses,label='Training Loss')\n",
    "plt.plot(test_losses,label='Test Loss')\n",
    "plt.legend()\n",
    "\n",
    "# plotting losses only for last batch"
   ]
  },
  {
   "cell_type": "code",
   "execution_count": 173,
   "id": "f5f2a001",
   "metadata": {},
   "outputs": [],
   "source": [
    "train_acc = [t/600 for t in train_correct]\n",
    "test_acc = [t/100 for t in test_correct]"
   ]
  },
  {
   "cell_type": "code",
   "execution_count": 175,
   "id": "e9ae90c1",
   "metadata": {
    "scrolled": true
   },
   "outputs": [
    {
     "data": {
      "text/plain": [
       "<matplotlib.legend.Legend at 0x1f745bbfb20>"
      ]
     },
     "execution_count": 175,
     "metadata": {},
     "output_type": "execute_result"
    },
    {
     "data": {
      "image/png": "[encoded data removed]",
      "text/plain": [
       "<Figure size 432x288 with 1 Axes>"
      ]
     },
     "metadata": {
      "needs_background": "light"
     },
     "output_type": "display_data"
    }
   ],
   "source": [
    "plt.plot(train_acc,label='train acc')\n",
    "plt.plot(test_acc,label='test acc')\n",
    "plt.legend()"
   ]
  },
  {
   "cell_type": "code",
   "execution_count": 176,
   "id": "33930b3a",
   "metadata": {},
   "outputs": [],
   "source": [
    "# NEW UNSEEN DATA\n",
    "\n",
    "test_load_all = DataLoader(test_data,batch_size=10000,shuffle=False)"
   ]
  },
  {
   "cell_type": "code",
   "execution_count": 177,
   "id": "6d606516",
   "metadata": {},
   "outputs": [],
   "source": [
    "with torch.no_grad():\n",
    "    correct = 0\n",
    "    \n",
    "    for X_test,y_test in test_load_all:\n",
    "        y_val = model(X_test.view(len(X_test),-1))\n",
    "        predicted = torch.max(y_val,1)[1]\n",
    "        correct += (predicted==y_test).sum()"
   ]
  },
  {
   "cell_type": "code",
   "execution_count": 181,
   "id": "05969dab",
   "metadata": {},
   "outputs": [
    {
     "data": {
      "text/plain": [
       "97.65"
      ]
     },
     "execution_count": 181,
     "metadata": {},
     "output_type": "execute_result"
    }
   ],
   "source": [
    "correct.item()/len(test_data)*100"
   ]
  },
  {
   "cell_type": "code",
   "execution_count": 182,
   "id": "b70fad29",
   "metadata": {},
   "outputs": [
    {
     "data": {
      "text/plain": [
       "array([[ 971,    0,    1,    1,    0,    1,    1,    1,    3,    5],\n",
       "       [   0, 1122,    2,    0,    1,    1,    3,    8,    0,    3],\n",
       "       [   2,    3, 1017,    6,    6,    0,    2,   12,    2,    0],\n",
       "       [   1,    3,    3,  993,    0,   19,    1,    5,    3,    9],\n",
       "       [   0,    0,    1,    0,  950,    1,    2,    0,    0,    7],\n",
       "       [   0,    0,    0,    1,    0,  850,    1,    1,    2,    8],\n",
       "       [   3,    1,    2,    1,    9,    9,  947,    0,    3,    1],\n",
       "       [   0,    0,    3,    3,    2,    0,    0,  990,    2,    0],\n",
       "       [   3,    6,    2,    3,    2,   10,    1,    6,  956,    7],\n",
       "       [   0,    0,    1,    2,   12,    1,    0,    5,    3,  969]],\n",
       "      dtype=int64)"
      ]
     },
     "execution_count": 182,
     "metadata": {},
     "output_type": "execute_result"
    }
   ],
   "source": [
    "confusion_matrix(predicted.view(-1),y_test.view(-1))  # diagonals: how many it gets right per class"
   ]
  },
  {
   "cell_type": "code",
   "execution_count": null,
   "id": "546baafe",
   "metadata": {},
   "outputs": [],
   "source": []
  }
 ],
 "metadata": {
  "kernelspec": {
   "display_name": "Python 3 (ipykernel)",
   "language": "python",
   "name": "python3"
  },
  "language_info": {
   "codemirror_mode": {
    "name": "ipython",
    "version": 3
   },
   "file_extension": ".py",
   "mimetype": "text/x-python",
   "name": "python",
   "nbconvert_exporter": "python",
   "pygments_lexer": "ipython3",
   "version": "3.9.7"
  }
 },
 "nbformat": 4,
 "nbformat_minor": 5
}
